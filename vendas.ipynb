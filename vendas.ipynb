{
 "cells": [
  {
   "cell_type": "code",
   "execution_count": 76,
   "metadata": {},
   "outputs": [],
   "source": [
    "import pandas as pd\n",
    "import matplotlib.pyplot as plt\n",
    "import seaborn as sns\n",
    "import matplotlib.ticker as mticker  "
   ]
  },
  {
   "cell_type": "code",
   "execution_count": 19,
   "metadata": {},
   "outputs": [],
   "source": [
    "#importando o arquivo\n",
    "vendas = pd.read_csv('C:/Users/Pessoal/Downloads/dados_vendas.csv')"
   ]
  },
  {
   "cell_type": "code",
   "execution_count": 20,
   "metadata": {},
   "outputs": [
    {
     "data": {
      "text/html": [
       "<div>\n",
       "<style scoped>\n",
       "    .dataframe tbody tr th:only-of-type {\n",
       "        vertical-align: middle;\n",
       "    }\n",
       "\n",
       "    .dataframe tbody tr th {\n",
       "        vertical-align: top;\n",
       "    }\n",
       "\n",
       "    .dataframe thead th {\n",
       "        text-align: right;\n",
       "    }\n",
       "</style>\n",
       "<table border=\"1\" class=\"dataframe\">\n",
       "  <thead>\n",
       "    <tr style=\"text-align: right;\">\n",
       "      <th></th>\n",
       "      <th>Data_Venda</th>\n",
       "      <th>Vendedor</th>\n",
       "      <th>Cliente</th>\n",
       "      <th>Produto</th>\n",
       "      <th>Quantidade</th>\n",
       "      <th>Preco_Unitario</th>\n",
       "      <th>Valor_Total</th>\n",
       "    </tr>\n",
       "  </thead>\n",
       "  <tbody>\n",
       "    <tr>\n",
       "      <th>0</th>\n",
       "      <td>2024-10-01</td>\n",
       "      <td>Carlos</td>\n",
       "      <td>Ana Sophia Araújo</td>\n",
       "      <td>Teclado</td>\n",
       "      <td>2</td>\n",
       "      <td>1154.89</td>\n",
       "      <td>2309.78</td>\n",
       "    </tr>\n",
       "    <tr>\n",
       "      <th>1</th>\n",
       "      <td>2025-01-29</td>\n",
       "      <td>Carlos</td>\n",
       "      <td>Ana Júlia Vieira</td>\n",
       "      <td>Notebook</td>\n",
       "      <td>5</td>\n",
       "      <td>2138.51</td>\n",
       "      <td>10692.55</td>\n",
       "    </tr>\n",
       "    <tr>\n",
       "      <th>2</th>\n",
       "      <td>2024-11-06</td>\n",
       "      <td>Carlos</td>\n",
       "      <td>Vicente Cavalcanti</td>\n",
       "      <td>Mouse</td>\n",
       "      <td>2</td>\n",
       "      <td>2551.51</td>\n",
       "      <td>5103.02</td>\n",
       "    </tr>\n",
       "    <tr>\n",
       "      <th>3</th>\n",
       "      <td>2025-02-20</td>\n",
       "      <td>Carlos</td>\n",
       "      <td>Ana Júlia Vieira</td>\n",
       "      <td>Mouse</td>\n",
       "      <td>5</td>\n",
       "      <td>2126.62</td>\n",
       "      <td>10633.10</td>\n",
       "    </tr>\n",
       "    <tr>\n",
       "      <th>4</th>\n",
       "      <td>2024-11-18</td>\n",
       "      <td>Rafael</td>\n",
       "      <td>Pedro Lucas Moreira</td>\n",
       "      <td>Teclado</td>\n",
       "      <td>1</td>\n",
       "      <td>3806.10</td>\n",
       "      <td>3806.10</td>\n",
       "    </tr>\n",
       "  </tbody>\n",
       "</table>\n",
       "</div>"
      ],
      "text/plain": [
       "   Data_Venda Vendedor              Cliente   Produto  Quantidade  \\\n",
       "0  2024-10-01   Carlos    Ana Sophia Araújo   Teclado           2   \n",
       "1  2025-01-29   Carlos     Ana Júlia Vieira  Notebook           5   \n",
       "2  2024-11-06   Carlos   Vicente Cavalcanti     Mouse           2   \n",
       "3  2025-02-20   Carlos     Ana Júlia Vieira     Mouse           5   \n",
       "4  2024-11-18   Rafael  Pedro Lucas Moreira   Teclado           1   \n",
       "\n",
       "   Preco_Unitario  Valor_Total  \n",
       "0         1154.89      2309.78  \n",
       "1         2138.51     10692.55  \n",
       "2         2551.51      5103.02  \n",
       "3         2126.62     10633.10  \n",
       "4         3806.10      3806.10  "
      ]
     },
     "execution_count": 20,
     "metadata": {},
     "output_type": "execute_result"
    }
   ],
   "source": [
    "# lendo o arquivo \n",
    "vendas.head()"
   ]
  },
  {
   "cell_type": "code",
   "execution_count": 21,
   "metadata": {},
   "outputs": [
    {
     "name": "stdout",
     "output_type": "stream",
     "text": [
      "1487670.05\n"
     ]
    }
   ],
   "source": [
    "#calculando a receita total\n",
    "\n",
    "receita_total = vendas[\"Valor_Total\"].sum()\n",
    "print(receita_total)"
   ]
  },
  {
   "cell_type": "code",
   "execution_count": 22,
   "metadata": {},
   "outputs": [],
   "source": [
    "#trnasformando data em datetime \n",
    "\n",
    "vendas['Data_Venda'] = pd.to_datetime(vendas['Data_Venda'])"
   ]
  },
  {
   "cell_type": "code",
   "execution_count": null,
   "metadata": {},
   "outputs": [],
   "source": [
    "# vendas por messes\n",
    "\n",
    "vendas['Mes_Ano'] = vendas[\"Data_Venda\"].dt.to_period(\"M\") \n"
   ]
  },
  {
   "cell_type": "code",
   "execution_count": null,
   "metadata": {},
   "outputs": [],
   "source": [
    "# agrupando os messes com o valor total \n",
    "faturamento_por_mes = vendas.groupby(\"Mes_Ano\")[\"Valor_Total\"].sum()"
   ]
  },
  {
   "cell_type": "code",
   "execution_count": 25,
   "metadata": {},
   "outputs": [],
   "source": [
    "# retornando o mes e o maior faturamento \n",
    "mes_maior_faturamento = faturamento_por_mes.idxmax()\n",
    "valor_maior_faturamento = faturamento_por_mes.max()"
   ]
  },
  {
   "cell_type": "code",
   "execution_count": 26,
   "metadata": {},
   "outputs": [],
   "source": [
    "# retornando o mes e o menor faturamento \n",
    "mes_menor_faturamento = faturamento_por_mes.idxmin()\n",
    "valor_menor_faturamento = faturamento_por_mes.min()"
   ]
  },
  {
   "cell_type": "code",
   "execution_count": 27,
   "metadata": {},
   "outputs": [
    {
     "name": "stdout",
     "output_type": "stream",
     "text": [
      "📈 Mês de maior faturamento: 2025-01 - R$ 300,292.26\n",
      "📉 Mês de menor faturamento: 2024-09 - R$ 28,740.72\n"
     ]
    }
   ],
   "source": [
    "#exibindo\n",
    "\n",
    "print(f\"📈 Mês de maior faturamento: {mes_maior_faturamento} - R$ {valor_maior_faturamento:,.2f}\")\n",
    "print(f\"📉 Mês de menor faturamento: {mes_menor_faturamento} - R$ {valor_menor_faturamento:,.2f}\")"
   ]
  },
  {
   "cell_type": "code",
   "execution_count": 28,
   "metadata": {},
   "outputs": [],
   "source": [
    "# ordenando os messes corretamente\n",
    "faturamento_por_mes = faturamento_por_mes.sort_index()"
   ]
  },
  {
   "cell_type": "code",
   "execution_count": 29,
   "metadata": {},
   "outputs": [
    {
     "name": "stderr",
     "output_type": "stream",
     "text": [
      "C:\\Users\\Pessoal\\AppData\\Local\\Temp\\ipykernel_10468\\3218852523.py:3: FutureWarning: \n",
      "\n",
      "Passing `palette` without assigning `hue` is deprecated and will be removed in v0.14.0. Assign the `x` variable to `hue` and set `legend=False` for the same effect.\n",
      "\n",
      "  sns.barplot(x=faturamento_por_mes.index.astype(str), y=faturamento_por_mes.values, palette=\"Blues\")\n"
     ]
    },
    {
     "data": {
      "image/png": "[encoded data removed]",
      "text/plain": [
       "<Figure size 1000x500 with 1 Axes>"
      ]
     },
     "metadata": {},
     "output_type": "display_data"
    }
   ],
   "source": [
    "# criando gráfico \n",
    "plt.figure(figsize=(10,5))\n",
    "sns.barplot(x=faturamento_por_mes.index.astype(str), y=faturamento_por_mes.values, palette=\"Blues\")\n",
    "plt.title(\"faturamento por Mês\", fontsize = 14)\n",
    "plt.xlabel(\"Mês\",fontsize=12)\n",
    "plt.ylabel(\"Faturamento (R$)\", fontsize =12)\n",
    "plt.xticks(rotation=45)\n",
    "\n",
    "plt.show()"
   ]
  },
  {
   "cell_type": "code",
   "execution_count": 41,
   "metadata": {},
   "outputs": [],
   "source": [
    "# descobrindo receita por produto\n",
    "\n",
    "receita_por_produto = vendas.groupby(\"Produto\")[\"Valor_Total\"].sum().sort_values(ascending=False)"
   ]
  },
  {
   "cell_type": "code",
   "execution_count": 42,
   "metadata": {},
   "outputs": [
    {
     "name": "stdout",
     "output_type": "stream",
     "text": [
      "Produto\n",
      "Mouse         319175.78\n",
      "Notebook      299424.80\n",
      "Impressora    298260.41\n",
      "Teclado       286228.66\n",
      "Monitor       284580.40\n",
      "Name: Valor_Total, dtype: float64\n"
     ]
    }
   ],
   "source": [
    "print(receita_por_produto)"
   ]
  },
  {
   "cell_type": "code",
   "execution_count": null,
   "metadata": {},
   "outputs": [],
   "source": [
    "# Pedindo o pedido mais vendido e o valor do produto\n",
    "\n",
    "produto_mais_vendido = receita_por_produto.idxmax()\n",
    "valor_mais_vendido = receita_por_produto.max()"
   ]
  },
  {
   "cell_type": "code",
   "execution_count": null,
   "metadata": {},
   "outputs": [
    {
     "name": "stdout",
     "output_type": "stream",
     "text": [
      "📈 Produto mais vendido: Mouse - Receita: R$ 319,175.78\n"
     ]
    }
   ],
   "source": [
    "print(f\"📈 Produto mais vendido: {produto_mais_vendido} - Receita: R$ {valor_mais_vendido:,.2f}\")"
   ]
  },
  {
   "cell_type": "code",
   "execution_count": 48,
   "metadata": {},
   "outputs": [
    {
     "data": {
      "text/html": [
       "<div>\n",
       "<style scoped>\n",
       "    .dataframe tbody tr th:only-of-type {\n",
       "        vertical-align: middle;\n",
       "    }\n",
       "\n",
       "    .dataframe tbody tr th {\n",
       "        vertical-align: top;\n",
       "    }\n",
       "\n",
       "    .dataframe thead th {\n",
       "        text-align: right;\n",
       "    }\n",
       "</style>\n",
       "<table border=\"1\" class=\"dataframe\">\n",
       "  <thead>\n",
       "    <tr style=\"text-align: right;\">\n",
       "      <th></th>\n",
       "      <th>Data_Venda</th>\n",
       "      <th>Vendedor</th>\n",
       "      <th>Cliente</th>\n",
       "      <th>Produto</th>\n",
       "      <th>Quantidade</th>\n",
       "      <th>Preco_Unitario</th>\n",
       "      <th>Valor_Total</th>\n",
       "      <th>Mes_Ano</th>\n",
       "    </tr>\n",
       "  </thead>\n",
       "  <tbody>\n",
       "    <tr>\n",
       "      <th>0</th>\n",
       "      <td>2024-10-01</td>\n",
       "      <td>Carlos</td>\n",
       "      <td>Ana Sophia Araújo</td>\n",
       "      <td>Teclado</td>\n",
       "      <td>2</td>\n",
       "      <td>1154.89</td>\n",
       "      <td>2309.78</td>\n",
       "      <td>2024-10</td>\n",
       "    </tr>\n",
       "    <tr>\n",
       "      <th>1</th>\n",
       "      <td>2025-01-29</td>\n",
       "      <td>Carlos</td>\n",
       "      <td>Ana Júlia Vieira</td>\n",
       "      <td>Notebook</td>\n",
       "      <td>5</td>\n",
       "      <td>2138.51</td>\n",
       "      <td>10692.55</td>\n",
       "      <td>2025-01</td>\n",
       "    </tr>\n",
       "    <tr>\n",
       "      <th>2</th>\n",
       "      <td>2024-11-06</td>\n",
       "      <td>Carlos</td>\n",
       "      <td>Vicente Cavalcanti</td>\n",
       "      <td>Mouse</td>\n",
       "      <td>2</td>\n",
       "      <td>2551.51</td>\n",
       "      <td>5103.02</td>\n",
       "      <td>2024-11</td>\n",
       "    </tr>\n",
       "    <tr>\n",
       "      <th>3</th>\n",
       "      <td>2025-02-20</td>\n",
       "      <td>Carlos</td>\n",
       "      <td>Ana Júlia Vieira</td>\n",
       "      <td>Mouse</td>\n",
       "      <td>5</td>\n",
       "      <td>2126.62</td>\n",
       "      <td>10633.10</td>\n",
       "      <td>2025-02</td>\n",
       "    </tr>\n",
       "    <tr>\n",
       "      <th>4</th>\n",
       "      <td>2024-11-18</td>\n",
       "      <td>Rafael</td>\n",
       "      <td>Pedro Lucas Moreira</td>\n",
       "      <td>Teclado</td>\n",
       "      <td>1</td>\n",
       "      <td>3806.10</td>\n",
       "      <td>3806.10</td>\n",
       "      <td>2024-11</td>\n",
       "    </tr>\n",
       "  </tbody>\n",
       "</table>\n",
       "</div>"
      ],
      "text/plain": [
       "  Data_Venda Vendedor              Cliente   Produto  Quantidade  \\\n",
       "0 2024-10-01   Carlos    Ana Sophia Araújo   Teclado           2   \n",
       "1 2025-01-29   Carlos     Ana Júlia Vieira  Notebook           5   \n",
       "2 2024-11-06   Carlos   Vicente Cavalcanti     Mouse           2   \n",
       "3 2025-02-20   Carlos     Ana Júlia Vieira     Mouse           5   \n",
       "4 2024-11-18   Rafael  Pedro Lucas Moreira   Teclado           1   \n",
       "\n",
       "   Preco_Unitario  Valor_Total  Mes_Ano  \n",
       "0         1154.89      2309.78  2024-10  \n",
       "1         2138.51     10692.55  2025-01  \n",
       "2         2551.51      5103.02  2024-11  \n",
       "3         2126.62     10633.10  2025-02  \n",
       "4         3806.10      3806.10  2024-11  "
      ]
     },
     "execution_count": 48,
     "metadata": {},
     "output_type": "execute_result"
    }
   ],
   "source": [
    "vendas.head()"
   ]
  },
  {
   "cell_type": "code",
   "execution_count": 51,
   "metadata": {},
   "outputs": [],
   "source": [
    "ranking_produtos = vendas.groupby(\"Produto\")[\"Valor_Total\"].sum().reset_index()"
   ]
  },
  {
   "cell_type": "code",
   "execution_count": 52,
   "metadata": {},
   "outputs": [],
   "source": [
    "ranking_produtos = ranking_produtos.sort_values(by=\"Valor_Total\",ascending=False)"
   ]
  },
  {
   "cell_type": "code",
   "execution_count": 53,
   "metadata": {},
   "outputs": [
    {
     "name": "stderr",
     "output_type": "stream",
     "text": [
      "C:\\Users\\Pessoal\\AppData\\Local\\Temp\\ipykernel_10468\\429932213.py:3: FutureWarning: \n",
      "\n",
      "Passing `palette` without assigning `hue` is deprecated and will be removed in v0.14.0. Assign the `y` variable to `hue` and set `legend=False` for the same effect.\n",
      "\n",
      "  sns.barplot(x=ranking_produtos[\"Valor_Total\"], y=ranking_produtos[\"Produto\"], palette=\"magma\")\n"
     ]
    },
    {
     "data": {
      "image/png": "[encoded data removed]",
      "text/plain": [
       "<Figure size 1000x500 with 1 Axes>"
      ]
     },
     "metadata": {},
     "output_type": "display_data"
    }
   ],
   "source": [
    "\n",
    "# Criar o gráfico\n",
    "plt.figure(figsize=(10, 5))\n",
    "sns.barplot(x=ranking_produtos[\"Valor_Total\"], y=ranking_produtos[\"Produto\"], palette=\"magma\")\n",
    "\n",
    "# Adicionar título e rótulos\n",
    "plt.title(\"Ranking de Produtos Mais Vendidos\", fontsize=14)\n",
    "plt.xlabel(\"Faturamento (R$)\", fontsize=12)\n",
    "plt.ylabel(\"Produto\", fontsize=12)\n",
    "\n",
    "# Mostrar o gráfico\n",
    "plt.show()"
   ]
  },
  {
   "cell_type": "code",
   "execution_count": 59,
   "metadata": {},
   "outputs": [],
   "source": [
    "ranking_Clientes = vendas.groupby(\"Cliente\")[\"Valor_Total\"].sum().reset_index()"
   ]
  },
  {
   "cell_type": "code",
   "execution_count": 72,
   "metadata": {},
   "outputs": [],
   "source": [
    "ranking_Clientes = ranking_Clientes.sort_values(by=\"Valor_Total\", ascending=False)"
   ]
  },
  {
   "cell_type": "code",
   "execution_count": 90,
   "metadata": {},
   "outputs": [
    {
     "name": "stdout",
     "output_type": "stream",
     "text": [
      "    Data_Venda  Vendedor                Cliente     Produto  Quantidade  \\\n",
      "126 2024-12-20   Mariana       Antônio Carvalho  Impressora           5   \n",
      "147 2024-12-04  Fernanda         Emilly Almeida    Notebook           5   \n",
      "140 2024-11-19   Mariana       Ana Júlia Vieira    Notebook           5   \n",
      "86  2024-10-19    Carlos   Sr. Bryan Nascimento    Notebook           5   \n",
      "28  2025-01-24   Mariana       Antônio Carvalho  Impressora           5   \n",
      "..         ...       ...                    ...         ...         ...   \n",
      "64  2024-12-28     Lucas          Clarice Porto  Impressora           5   \n",
      "37  2025-03-21  Fernanda    Pedro Lucas Moreira       Mouse           1   \n",
      "167 2024-11-08  Fernanda      Dra. Pietra Viana       Mouse           1   \n",
      "46  2025-02-20    Carlos  João Gabriel Monteiro  Impressora           1   \n",
      "60  2025-02-09   Mariana  João Gabriel Monteiro     Teclado           1   \n",
      "\n",
      "     Preco_Unitario  Valor_Total  Mes_Ano  \n",
      "126         4820.49     24102.45  2024-12  \n",
      "147         4756.84     23784.20  2024-12  \n",
      "140         4742.91     23714.55  2024-11  \n",
      "86          4631.60     23158.00  2024-10  \n",
      "28          4596.54     22982.70  2025-01  \n",
      "..              ...          ...      ...  \n",
      "64            88.72       443.60  2024-12  \n",
      "37           401.42       401.42  2025-03  \n",
      "167          345.21       345.21  2024-11  \n",
      "46           300.41       300.41  2025-02  \n",
      "60            96.11        96.11  2025-02  \n",
      "\n",
      "[200 rows x 8 columns]\n"
     ]
    }
   ],
   "source": [
    "print(ranking_Clientes)"
   ]
  },
  {
   "cell_type": "code",
   "execution_count": 92,
   "metadata": {},
   "outputs": [],
   "source": [
    "ranking_vendedores = vendas.groupby(\"Vendedor\")[\"Valor_Total\"].sum().reset_index()"
   ]
  },
  {
   "cell_type": "code",
   "execution_count": 96,
   "metadata": {},
   "outputs": [],
   "source": [
    "ranking_vendedores = ranking_vendedores.sort_values(by=\"Valor_Total\",ascending=False)"
   ]
  },
  {
   "cell_type": "code",
   "execution_count": 97,
   "metadata": {},
   "outputs": [
    {
     "name": "stdout",
     "output_type": "stream",
     "text": [
      "   Vendedor  Valor_Total\n",
      "3   Mariana    364478.02\n",
      "2     Lucas    324205.64\n",
      "0    Carlos    314253.75\n",
      "4    Rafael    249516.61\n",
      "1  Fernanda    235216.03\n"
     ]
    }
   ],
   "source": [
    "print(ranking_vendedores)"
   ]
  },
  {
   "cell_type": "code",
   "execution_count": 101,
   "metadata": {},
   "outputs": [
    {
     "name": "stderr",
     "output_type": "stream",
     "text": [
      "C:\\Users\\Pessoal\\AppData\\Local\\Temp\\ipykernel_10468\\1713185645.py:3: FutureWarning: \n",
      "\n",
      "Passing `palette` without assigning `hue` is deprecated and will be removed in v0.14.0. Assign the `y` variable to `hue` and set `legend=False` for the same effect.\n",
      "\n",
      "  sns.barplot(x=ranking_vendedores[\"Valor_Total\"], y=ranking_vendedores[\"Vendedor\"], palette=\"magma\")\n"
     ]
    },
    {
     "data": {
      "image/png": "[encoded data removed]",
      "text/plain": [
       "<Figure size 1000x500 with 1 Axes>"
      ]
     },
     "metadata": {},
     "output_type": "display_data"
    }
   ],
   "source": [
    "# Criar o gráfico\n",
    "plt.figure(figsize=(10, 5))\n",
    "sns.barplot(x=ranking_vendedores[\"Valor_Total\"], y=ranking_vendedores[\"Vendedor\"], palette=\"magma\")\n",
    "\n",
    "# Adicionar título e rótulos\n",
    "plt.title(\"Ranking de vendedores\", fontsize=14)\n",
    "plt.xlabel(\"Faturamento (R$)\", fontsize=12)\n",
    "plt.ylabel(\"Vendedores\", fontsize=12)\n",
    "\n",
    "# Mostrar o gráfico\n",
    "plt.show()"
   ]
  },
  {
   "cell_type": "code",
   "execution_count": 106,
   "metadata": {},
   "outputs": [
    {
     "data": {
      "text/html": [
       "<div>\n",
       "<style scoped>\n",
       "    .dataframe tbody tr th:only-of-type {\n",
       "        vertical-align: middle;\n",
       "    }\n",
       "\n",
       "    .dataframe tbody tr th {\n",
       "        vertical-align: top;\n",
       "    }\n",
       "\n",
       "    .dataframe thead th {\n",
       "        text-align: right;\n",
       "    }\n",
       "</style>\n",
       "<table border=\"1\" class=\"dataframe\">\n",
       "  <thead>\n",
       "    <tr style=\"text-align: right;\">\n",
       "      <th></th>\n",
       "      <th>Data_Venda</th>\n",
       "      <th>Vendedor</th>\n",
       "      <th>Cliente</th>\n",
       "      <th>Produto</th>\n",
       "      <th>Quantidade</th>\n",
       "      <th>Preco_Unitario</th>\n",
       "      <th>Valor_Total</th>\n",
       "      <th>Mes_Ano</th>\n",
       "    </tr>\n",
       "  </thead>\n",
       "  <tbody>\n",
       "    <tr>\n",
       "      <th>0</th>\n",
       "      <td>2024-10-01</td>\n",
       "      <td>Carlos</td>\n",
       "      <td>Ana Sophia Araújo</td>\n",
       "      <td>Teclado</td>\n",
       "      <td>2</td>\n",
       "      <td>1154.89</td>\n",
       "      <td>2309.78</td>\n",
       "      <td>2024-10</td>\n",
       "    </tr>\n",
       "    <tr>\n",
       "      <th>1</th>\n",
       "      <td>2025-01-29</td>\n",
       "      <td>Carlos</td>\n",
       "      <td>Ana Júlia Vieira</td>\n",
       "      <td>Notebook</td>\n",
       "      <td>5</td>\n",
       "      <td>2138.51</td>\n",
       "      <td>10692.55</td>\n",
       "      <td>2025-01</td>\n",
       "    </tr>\n",
       "    <tr>\n",
       "      <th>2</th>\n",
       "      <td>2024-11-06</td>\n",
       "      <td>Carlos</td>\n",
       "      <td>Vicente Cavalcanti</td>\n",
       "      <td>Mouse</td>\n",
       "      <td>2</td>\n",
       "      <td>2551.51</td>\n",
       "      <td>5103.02</td>\n",
       "      <td>2024-11</td>\n",
       "    </tr>\n",
       "    <tr>\n",
       "      <th>3</th>\n",
       "      <td>2025-02-20</td>\n",
       "      <td>Carlos</td>\n",
       "      <td>Ana Júlia Vieira</td>\n",
       "      <td>Mouse</td>\n",
       "      <td>5</td>\n",
       "      <td>2126.62</td>\n",
       "      <td>10633.10</td>\n",
       "      <td>2025-02</td>\n",
       "    </tr>\n",
       "    <tr>\n",
       "      <th>4</th>\n",
       "      <td>2024-11-18</td>\n",
       "      <td>Rafael</td>\n",
       "      <td>Pedro Lucas Moreira</td>\n",
       "      <td>Teclado</td>\n",
       "      <td>1</td>\n",
       "      <td>3806.10</td>\n",
       "      <td>3806.10</td>\n",
       "      <td>2024-11</td>\n",
       "    </tr>\n",
       "  </tbody>\n",
       "</table>\n",
       "</div>"
      ],
      "text/plain": [
       "  Data_Venda Vendedor              Cliente   Produto  Quantidade  \\\n",
       "0 2024-10-01   Carlos    Ana Sophia Araújo   Teclado           2   \n",
       "1 2025-01-29   Carlos     Ana Júlia Vieira  Notebook           5   \n",
       "2 2024-11-06   Carlos   Vicente Cavalcanti     Mouse           2   \n",
       "3 2025-02-20   Carlos     Ana Júlia Vieira     Mouse           5   \n",
       "4 2024-11-18   Rafael  Pedro Lucas Moreira   Teclado           1   \n",
       "\n",
       "   Preco_Unitario  Valor_Total  Mes_Ano  \n",
       "0         1154.89      2309.78  2024-10  \n",
       "1         2138.51     10692.55  2025-01  \n",
       "2         2551.51      5103.02  2024-11  \n",
       "3         2126.62     10633.10  2025-02  \n",
       "4         3806.10      3806.10  2024-11  "
      ]
     },
     "execution_count": 106,
     "metadata": {},
     "output_type": "execute_result"
    }
   ],
   "source": [
    "vendas.head()"
   ]
  },
  {
   "cell_type": "code",
   "execution_count": 115,
   "metadata": {},
   "outputs": [],
   "source": [
    "\n",
    "# vendas por messes\n",
    "\n",
    "vendas['Mes_Ano'] = vendas[\"Data_Venda\"].dt.to_period(\"M\") \n"
   ]
  },
  {
   "cell_type": "code",
   "execution_count": null,
   "metadata": {},
   "outputs": [],
   "source": [
    "# agrupando os messes com o valor total \n",
    "faturamento_por_mes = vendas.groupby(\"Mes_Ano\")[\"Valor_Total\"].sum()"
   ]
  },
  {
   "cell_type": "code",
   "execution_count": 127,
   "metadata": {},
   "outputs": [],
   "source": [
    "vendas[\"Data_Venda\"] = pd.to_datetime(vendas[\"Data_Venda\"], errors=\"coerce\")"
   ]
  },
  {
   "cell_type": "code",
   "execution_count": 130,
   "metadata": {},
   "outputs": [],
   "source": [
    "faturamento_por_mes = vendas.groupby(\"Mes_Ano\")[\"Valor_Total\"].sum().reset_index()"
   ]
  },
  {
   "cell_type": "code",
   "execution_count": 131,
   "metadata": {},
   "outputs": [],
   "source": [
    "# Calcular a taxa de crescimento percentual em relação ao mês anterior\n",
    "faturamento_por_mes[\"Taxa_Crescimento\"] = faturamento_por_mes[\"Valor_Total\"].pct_change() * 100"
   ]
  },
  {
   "cell_type": "code",
   "execution_count": null,
   "metadata": {},
   "outputs": [
    {
     "name": "stdout",
     "output_type": "stream",
     "text": [
      "   Mes_Ano  Valor_Total  Taxa_Crescimento\n",
      "0  2024-09     28740.72               NaN\n",
      "1  2024-10    266704.79        827.968367\n",
      "2  2024-11    215283.63        -19.280179\n",
      "3  2024-12    219988.97          2.185647\n",
      "4  2025-01    300292.26         36.503326\n",
      "5  2025-02    296933.06         -1.118644\n",
      "6  2025-03    159726.62        -46.207869\n"
     ]
    }
   ],
   "source": [
    "# Exibir os dados\n",
    "print(faturamento_por_mes)"
   ]
  },
  {
   "cell_type": "code",
   "execution_count": null,
   "metadata": {},
   "outputs": [
    {
     "name": "stdout",
     "output_type": "stream",
     "text": [
      "Data_Venda        datetime64[ns]\n",
      "Vendedor                  object\n",
      "Cliente                   object\n",
      "Produto                   object\n",
      "Quantidade                 int64\n",
      "Preco_Unitario           float64\n",
      "Valor_Total              float64\n",
      "Mes_Ano                period[M]\n",
      "dtype: object\n",
      "Valores nulos em 'Valor_Total': 0\n"
     ]
    },
    {
     "name": "stderr",
     "output_type": "stream",
     "text": [
      "C:\\Users\\Pessoal\\AppData\\Roaming\\Python\\Python313\\site-packages\\IPython\\core\\pylabtools.py:170: UserWarning: Glyph 128200 (\\N{CHART WITH UPWARDS TREND}) missing from font(s) Arial.\n",
      "  fig.canvas.print_figure(bytes_io, **kw)\n"
     ]
    },
    {
     "data": {
      "image/png": "[encoded data removed]",
      "text/plain": [
       "<Figure size 1200x600 with 1 Axes>"
      ]
     },
     "metadata": {},
     "output_type": "display_data"
    }
   ],
   "source": [
    "# criando o gráfico \n",
    "plt.figure(figsize=(12, 6))\n",
    "\n",
    "sns.lineplot(data=faturamento_por_mes, x=\"Mes_Ano\", y=\"Valor_Total\", marker=\"o\", label=\"Faturamento\", color=\"royalblue\")\n",
    "sns.barplot(data=faturamento_por_mes, x=\"Mes_Ano\", y=\"Taxa_Crescimento\", alpha=0.5, color=\"orange\")\n",
    "\n",
    "plt.title(\"📈 Evolução das Vendas e Taxa de Crescimento\", fontsize=16, fontweight=\"bold\")\n",
    "plt.xlabel(\"Ano/Mês\", fontsize=12)\n",
    "plt.ylabel(\"Faturamento (R$)\", fontsize=12)\n",
    "plt.xticks(rotation=45)\n",
    "plt.axhline(0, color=\"black\", linewidth=1, linestyle=\"--\")\n",
    "plt.legend()\n",
    "plt.show()\n"
   ]
  }
 ],
 "metadata": {
  "kernelspec": {
   "display_name": "Python 3",
   "language": "python",
   "name": "python3"
  },
  "language_info": {
   "codemirror_mode": {
    "name": "ipython",
    "version": 3
   },
   "file_extension": ".py",
   "mimetype": "text/x-python",
   "name": "python",
   "nbconvert_exporter": "python",
   "pygments_lexer": "ipython3",
   "version": "3.13.2"
  }
 },
 "nbformat": 4,
 "nbformat_minor": 2
}
